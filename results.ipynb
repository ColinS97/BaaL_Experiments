{
 "cells": [
  {
   "cell_type": "code",
   "execution_count": 1,
   "metadata": {},
   "outputs": [],
   "source": [
    "import pandas as pd\n",
    "import numpy as np"
   ]
  },
  {
   "cell_type": "code",
   "execution_count": 3,
   "metadata": {},
   "outputs": [],
   "source": [
    "mypickle = pd.read_pickle(\"Results/cifarnet_augment_2_epochs_80/uncertainties_augmented_cifarnet/uncertainty_epoch=80_labelled=21300.pkl\")"
   ]
  },
  {
   "cell_type": "code",
   "execution_count": 6,
   "metadata": {},
   "outputs": [],
   "source": [
    "mypickle\n",
    "uncertainty = mypickle['uncertainty']\n",
    "oracle_indices = mypickle['oracle_indices']\n",
    "labelled_map = mypickle['labelled_map']"
   ]
  },
  {
   "cell_type": "code",
   "execution_count": 7,
   "metadata": {},
   "outputs": [
    {
     "name": "stdout",
     "output_type": "stream",
     "text": [
      "150000\n"
     ]
    },
    {
     "data": {
      "text/plain": [
       "array([0.01699404, 0.00845005, 0.00102425, ..., 0.11669621, 0.07163577,\n",
       "       0.13702059], dtype=float32)"
      ]
     },
     "execution_count": 7,
     "metadata": {},
     "output_type": "execute_result"
    }
   ],
   "source": [
    "\n",
    "print(len(uncertainty))\n",
    "uncertainty"
   ]
  },
  {
   "cell_type": "code",
   "execution_count": 10,
   "metadata": {},
   "outputs": [],
   "source": [
    "original = uncertainty[0:50000-1]\n",
    "aug1 = uncertainty[50000:100000-1]\n",
    "aug2 = uncertainty[100000:150000-1]"
   ]
  },
  {
   "cell_type": "code",
   "execution_count": 12,
   "metadata": {},
   "outputs": [],
   "source": [
    "matrix = np.vstack([original,aug1,aug2])\n",
    "#matrix     = np.transpose(matrix_aux)\n",
    "df_lab_img = pd.DataFrame(matrix)"
   ]
  },
  {
   "cell_type": "code",
   "execution_count": 22,
   "metadata": {},
   "outputs": [],
   "source": [
    "df_lab_img.std()\n",
    "df_lab_img = pd.DataFrame(np.vstack([matrix, df_lab_img.std()]))"
   ]
  },
  {
   "cell_type": "code",
   "execution_count": 25,
   "metadata": {},
   "outputs": [],
   "source": [
    "uncertainties_std = df_lab_img.transpose()\n",
    "uncertainties_std.columns = ['original', 'aug1', 'aug2', 'std']\n"
   ]
  },
  {
   "cell_type": "code",
   "execution_count": 28,
   "metadata": {},
   "outputs": [],
   "source": [
    "uncertainties_std.to_excel(\"uncertainties_std.xlsx\")"
   ]
  },
  {
   "cell_type": "code",
   "execution_count": null,
   "metadata": {},
   "outputs": [],
   "source": []
  }
 ],
 "metadata": {
  "kernelspec": {
   "display_name": "Python 3.9.13 ('pytorch-mps')",
   "language": "python",
   "name": "python3"
  },
  "language_info": {
   "codemirror_mode": {
    "name": "ipython",
    "version": 3
   },
   "file_extension": ".py",
   "mimetype": "text/x-python",
   "name": "python",
   "nbconvert_exporter": "python",
   "pygments_lexer": "ipython3",
   "version": "3.9.13"
  },
  "orig_nbformat": 4,
  "vscode": {
   "interpreter": {
    "hash": "12aa715b2019dc95dc3d838a8ca22be187025798efd1043f241e41caa6c1ae3c"
   }
  }
 },
 "nbformat": 4,
 "nbformat_minor": 2
}
